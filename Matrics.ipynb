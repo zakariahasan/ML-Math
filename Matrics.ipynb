{
 "cells": [
  {
   "cell_type": "code",
   "execution_count": 225,
   "metadata": {},
   "outputs": [],
   "source": [
    "import numpy as np\n",
    "import matplotlib.pyplot as plt\n",
    "from sympy.interactive import printing\n",
    "printing.init_printing(use_latex= True)\n",
    "from numpy import linalg\n",
    "from sympy import Eq, solve_linear_system, Matrix\n",
    "import sympy as sp"
   ]
  },
  {
   "cell_type": "markdown",
   "metadata": {},
   "source": [
    "## 1\n"
   ]
  },
  {
   "cell_type": "code",
   "execution_count": 226,
   "metadata": {},
   "outputs": [
    {
     "name": "stdout",
     "output_type": "stream",
     "text": [
      "[[27]]\n"
     ]
    }
   ],
   "source": [
    "# 1 a\n",
    "A = np.array([[3,6]])\n",
    "B = np.array([[5],[2]])\n",
    "print(np.dot(A,B)) \n"
   ]
  },
  {
   "cell_type": "code",
   "execution_count": 227,
   "metadata": {},
   "outputs": [
    {
     "data": {
      "text/plain": [
       "array([[15, 30],\n",
       "       [ 6, 12]])"
      ]
     },
     "execution_count": 227,
     "metadata": {},
     "output_type": "execute_result"
    }
   ],
   "source": [
    "# 1 b\n",
    "A = np.array([[5],[2]])\n",
    "B = np.array([[3,6]])\n",
    "np.dot(A,B)"
   ]
  },
  {
   "cell_type": "code",
   "execution_count": 228,
   "metadata": {},
   "outputs": [],
   "source": [
    "# 1 c\n",
    "A = np.array([[5],[2]])\n",
    "B = np.array([[3],[6]])\n",
    "# np.dot(A,B)  # not a valid argument"
   ]
  },
  {
   "cell_type": "code",
   "execution_count": 229,
   "metadata": {},
   "outputs": [
    {
     "data": {
      "text/plain": [
       "array([[16],\n",
       "       [42]])"
      ]
     },
     "execution_count": 229,
     "metadata": {},
     "output_type": "execute_result"
    }
   ],
   "source": [
    "# 1 d\n",
    "A = np.array([[1,2],[3,5]])\n",
    "B = np.array([[4],[6]])\n",
    "np.dot(A,B)"
   ]
  },
  {
   "cell_type": "code",
   "execution_count": 230,
   "metadata": {},
   "outputs": [],
   "source": [
    "# 1 e\n",
    "A = np.array([[4],[6]])\n",
    "B = np.array([[1,2],[3,5]])\n",
    "C = np.array([[4],[6]])\n",
    "# np.dot(A,B)  # not a valid argument"
   ]
  },
  {
   "cell_type": "code",
   "execution_count": 231,
   "metadata": {},
   "outputs": [],
   "source": [
    "# 1 f\n",
    "A = np.array([[4],[6]])\n",
    "A = np.transpose(A)\n",
    "B = np.array([[1,2],[3,5]])"
   ]
  },
  {
   "cell_type": "markdown",
   "metadata": {},
   "source": [
    "## 2"
   ]
  },
  {
   "cell_type": "code",
   "execution_count": 232,
   "metadata": {},
   "outputs": [],
   "source": [
    "# 2 a\n",
    "A = np.array([[1,0],[0,2],[3,0]]) \n",
    "B = np.array([[0,4],[0,5],[6,0]]) \n",
    "#np.dot(A,B) \n",
    "#Not a valid dimesion for matrix dot product\n"
   ]
  },
  {
   "cell_type": "code",
   "execution_count": 233,
   "metadata": {},
   "outputs": [
    {
     "data": {
      "text/plain": [
       "array([[ 0,  0],\n",
       "       [ 0, 10],\n",
       "       [18,  0]])"
      ]
     },
     "execution_count": 233,
     "metadata": {},
     "output_type": "execute_result"
    }
   ],
   "source": [
    "# 2 b\n",
    "A = np.array([[1,0],[0,2],[3,0]]) \n",
    "B = np.array([[0,4],[0,5],[6,0]]) \n",
    "np.multiply(A,B) "
   ]
  },
  {
   "cell_type": "code",
   "execution_count": 234,
   "metadata": {},
   "outputs": [
    {
     "data": {
      "text/plain": [
       "array([[18,  4],\n",
       "       [ 0, 10]])"
      ]
     },
     "execution_count": 234,
     "metadata": {},
     "output_type": "execute_result"
    }
   ],
   "source": [
    "# 2 c\n",
    "A = np.array([[1,0],[0,2],[3,0]]) \n",
    "A = np.transpose(A)\n",
    "B = np.array([[0,4],[0,5],[6,0]]) \n",
    "np.dot(A,B)"
   ]
  },
  {
   "cell_type": "code",
   "execution_count": 235,
   "metadata": {},
   "outputs": [
    {
     "data": {
      "text/plain": [
       "array([[ 0,  0,  6],\n",
       "       [ 8, 10,  0],\n",
       "       [ 0,  0, 18]])"
      ]
     },
     "execution_count": 235,
     "metadata": {},
     "output_type": "execute_result"
    }
   ],
   "source": [
    "# 2 d\n",
    "A = np.array([[1,0],[0,2],[3,0]]) \n",
    "B = np.array([[0,4],[0,5],[6,0]]) \n",
    "B = np.transpose(B)\n",
    "np.dot(A,B)"
   ]
  },
  {
   "cell_type": "code",
   "execution_count": 236,
   "metadata": {},
   "outputs": [
    {
     "name": "stdout",
     "output_type": "stream",
     "text": [
      "[[10  0]\n",
      " [ 0 20]\n",
      " [30  0]]\n"
     ]
    }
   ],
   "source": [
    "# 2 e\n",
    "A = np.array([[1,0],[0,2],[3,0]]) \n",
    "print(10*A)"
   ]
  },
  {
   "cell_type": "code",
   "execution_count": 237,
   "metadata": {},
   "outputs": [
    {
     "name": "stdout",
     "output_type": "stream",
     "text": [
      "[[11 10]\n",
      " [10 12]\n",
      " [13 10]]\n"
     ]
    }
   ],
   "source": [
    "# 2 f\n",
    "A = np.array([[1,0],[0,2],[3,0]]) \n",
    "print(10+A)"
   ]
  },
  {
   "cell_type": "markdown",
   "metadata": {},
   "source": [
    "## 3"
   ]
  },
  {
   "cell_type": "code",
   "execution_count": 238,
   "metadata": {},
   "outputs": [
    {
     "data": {
      "image/png": "[encoded data removed]",
      "text/plain": [
       "<Figure size 432x288 with 1 Axes>"
      ]
     },
     "metadata": {
      "needs_background": "light"
     },
     "output_type": "display_data"
    }
   ],
   "source": [
    "# 3 \n",
    "a = np.linspace(-2,2)\n",
    "b = 1 /(1 + np.exp(a)) \n",
    "plt.plot(a,b)\n",
    "plt.show()"
   ]
  },
  {
   "cell_type": "markdown",
   "metadata": {},
   "source": [
    "## 4\n"
   ]
  },
  {
   "cell_type": "code",
   "execution_count": 239,
   "metadata": {
    "scrolled": true
   },
   "outputs": [
    {
     "data": {
      "image/png": "[encoded data removed]",
      "text/plain": [
       "<Figure size 432x288 with 1 Axes>"
      ]
     },
     "metadata": {
      "needs_background": "light"
     },
     "output_type": "display_data"
    }
   ],
   "source": [
    "# 4\n",
    "x = np.linspace(0,5)\n",
    "y= (x**3 + np.abs(x) + np.log(x + 10**(-8))) / (np.sqrt(x + 100) + 0.01*x*np.exp(x))\n",
    "plt.plot(x,y)\n",
    "plt.show()"
   ]
  },
  {
   "cell_type": "markdown",
   "metadata": {},
   "source": [
    "## 5\n",
    "\n",
    "\n",
    "\n"
   ]
  },
  {
   "cell_type": "code",
   "execution_count": 240,
   "metadata": {},
   "outputs": [
    {
     "name": "stdout",
     "output_type": "stream",
     "text": [
      "Using Sympy\n"
     ]
    },
    {
     "data": {
      "image/png": "[encoded data removed]",
      "text/latex": [
       "$\\displaystyle x + 2 y + 4 z = 12$"
      ],
      "text/plain": [
       "x + 2⋅y + 4⋅z = 12"
      ]
     },
     "metadata": {},
     "output_type": "display_data"
    },
    {
     "data": {
      "image/png": "[encoded data removed]",
      "text/latex": [
       "$\\displaystyle - 3 x + y + 5 z = 2$"
      ],
      "text/plain": [
       "-3⋅x + y + 5⋅z = 2"
      ]
     },
     "metadata": {},
     "output_type": "display_data"
    },
    {
     "data": {
      "image/png": "[encoded data removed]",
      "text/latex": [
       "$\\displaystyle 2 x - 4 y + z = -7$"
      ],
      "text/plain": [
       "2⋅x - 4⋅y + z = -7"
      ]
     },
     "metadata": {},
     "output_type": "display_data"
    },
    {
     "data": {
      "text/latex": [
       "$\\displaystyle \\left[\\begin{matrix}1 & 2 & 4 & 12\\\\-3 & 1 & 5 & 2\\\\2 & -4 & 1 & -7\\end{matrix}\\right]$"
      ],
      "text/plain": [
       "⎡1   2   4  12⎤\n",
       "⎢             ⎥\n",
       "⎢-3  1   5  2 ⎥\n",
       "⎢             ⎥\n",
       "⎣2   -4  1  -7⎦"
      ]
     },
     "metadata": {},
     "output_type": "display_data"
    },
    {
     "name": "stdout",
     "output_type": "stream",
     "text": [
      "{x: 2, y: 3, z: 1}\n",
      "Using numpy:\n",
      "[2. 3. 1.]\n"
     ]
    }
   ],
   "source": [
    "#5 \n",
    "print(\"Using Sympy\")\n",
    "eq1 = sp.Function('eq1')\n",
    "eq2 = sp.Function('eq2')\n",
    "eq3 = sp.Function('eq3')\n",
    "\n",
    "x,y,z = sp.symbols('x y z')\n",
    "eq1 = Eq(x+2*y+4*z,12)\n",
    "eq2 = Eq(-3*x+y+5*z,2)\n",
    "eq3 = Eq(2*x-4*y+z,-7)\n",
    "display(eq1)\n",
    "display(eq2)\n",
    "display(eq3)\n",
    "\n",
    "row1 =[1,2,4,12]\n",
    "row2 =[-3,1,5,2]\n",
    "row3 =[2,-4,1,-7]\n",
    "system = Matrix((row1,row2,row3))\n",
    "                \n",
    "display(system)\n",
    "\n",
    "S=solve_linear_system(system,x,y,z)\n",
    "\n",
    "print(S)\n",
    "\n",
    "print('Using numpy:')\n",
    "\n",
    "A = np.array([[1, 2, 4], [-3, 1, 5], [2, -4, 1]])\n",
    "B = np.array([12, 2, -7])\n",
    "X = np.linalg.inv(A).dot(B)\n",
    "print(X)\n",
    "\n"
   ]
  },
  {
   "cell_type": "markdown",
   "metadata": {},
   "source": [
    "## 6"
   ]
  },
  {
   "cell_type": "code",
   "execution_count": 241,
   "metadata": {},
   "outputs": [
    {
     "name": "stdout",
     "output_type": "stream",
     "text": [
      "2\n",
      "-2\n",
      "1\n"
     ]
    }
   ],
   "source": [
    "# 6a)\n",
    "A = np.array([[2,5,-1,3,6],\n",
    "          [1,0,0,-2,0],\n",
    "          [4,1,-2,0,7],\n",
    "          [0,3,5,1,-1]])\n",
    "print(A[0][0]) # A(1, 1)\n",
    "print(A[1][3]) # A(2, 4)\n",
    "print(A[3][3]) # A(4, 4)"
   ]
  },
  {
   "cell_type": "code",
   "execution_count": 242,
   "metadata": {},
   "outputs": [
    {
     "name": "stdout",
     "output_type": "stream",
     "text": [
      "[[ 4  1 -2  0  7]]\n"
     ]
    }
   ],
   "source": [
    "# 6b)\n",
    "A = np.array([[2,5,-1,3,6],\n",
    "          [1,0,0,-2,0],\n",
    "          [4,1,-2,0,7],\n",
    "          [0,3,5,1,-1]])\n",
    "print(A[2:3]) # the third row"
   ]
  },
  {
   "cell_type": "code",
   "execution_count": 243,
   "metadata": {},
   "outputs": [
    {
     "name": "stdout",
     "output_type": "stream",
     "text": [
      "[[ 2  5 -1]\n",
      " [ 1  0  0]\n",
      " [ 4  1 -2]\n",
      " [ 0  3  5]]\n"
     ]
    }
   ],
   "source": [
    "# 6C)\n",
    "A = np.array([[2,5,-1,3,6],\n",
    "          [1,0,0,-2,0],\n",
    "          [4,1,-2,0,7],\n",
    "          [0,3,5,1,-1]])\n",
    "print(A[:,[0,1,2]]) # the first three columns."
   ]
  },
  {
   "cell_type": "markdown",
   "metadata": {},
   "source": [
    "## 7"
   ]
  },
  {
   "cell_type": "code",
   "execution_count": 219,
   "metadata": {},
   "outputs": [
    {
     "name": "stdout",
     "output_type": "stream",
     "text": [
      "[[1 0 0 4]\n",
      " [0 2 0 5]\n",
      " [3 0 6 0]]\n",
      "[[1 0]\n",
      " [0 2]\n",
      " [3 0]\n",
      " [0 4]\n",
      " [0 5]\n",
      " [6 0]]\n"
     ]
    },
    {
     "data": {
      "text/plain": [
       "array([[1],\n",
       "       [0],\n",
       "       [0],\n",
       "       [4],\n",
       "       [0],\n",
       "       [2],\n",
       "       [0],\n",
       "       [5],\n",
       "       [3],\n",
       "       [0],\n",
       "       [6],\n",
       "       [0]])"
      ]
     },
     "execution_count": 219,
     "metadata": {},
     "output_type": "execute_result"
    }
   ],
   "source": [
    "# 7\n",
    "A = np.array([[1,0],[0,2],[3,0]])\n",
    "B = [[0,4],[0,5],[6,0]]\n",
    "C = np.concatenate((A, B), axis=1)\n",
    "D =np.concatenate((A, B), axis=0)\n",
    "print(C)\n",
    "print(D)\n",
    "C.reshape(12,1) # Reshape C as a column vector"
   ]
  },
  {
   "cell_type": "code",
   "execution_count": null,
   "metadata": {},
   "outputs": [],
   "source": []
  },
  {
   "cell_type": "code",
   "execution_count": null,
   "metadata": {},
   "outputs": [],
   "source": []
  }
 ],
 "metadata": {
  "kernelspec": {
   "display_name": "Python 3",
   "language": "python",
   "name": "python3"
  },
  "language_info": {
   "codemirror_mode": {
    "name": "ipython",
    "version": 3
   },
   "file_extension": ".py",
   "mimetype": "text/x-python",
   "name": "python",
   "nbconvert_exporter": "python",
   "pygments_lexer": "ipython3",
   "version": "3.7.4"
  }
 },
 "nbformat": 4,
 "nbformat_minor": 2
}
